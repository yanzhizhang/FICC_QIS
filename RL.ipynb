{
 "cells": [
  {
   "cell_type": "code",
   "execution_count": null,
   "metadata": {},
   "outputs": [],
   "source": [
    "from future_arb.reinforcement_learning.spread_trading_env import SpreadTradingEnv\n",
    "from stable_baselines3 import PPO  \n",
    "\n",
    "# Load the environment\n",
    "env = SpreadTradingEnv(df)\n",
    "\n",
    "# Train PPO model\n",
    "model = PPO(\"MlpPolicy\", env, verbose=1)\n",
    "model.learn(total_timesteps=100000)\n",
    "\n",
    "# Save the model\n",
    "model.save(\"ppo_spread_trading\")\n"
   ]
  }
 ],
 "metadata": {
  "kernelspec": {
   "display_name": "venv",
   "language": "python",
   "name": "python3"
  },
  "language_info": {
   "name": "python",
   "version": "3.12.5"
  }
 },
 "nbformat": 4,
 "nbformat_minor": 2
}
